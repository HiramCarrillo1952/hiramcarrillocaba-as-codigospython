{
 "cells": [
  {
   "cell_type": "code",
   "execution_count": 4,
   "id": "1bc949e6",
   "metadata": {},
   "outputs": [
    {
     "name": "stdout",
     "output_type": "stream",
     "text": [
      "Ingrese su Nombre, Telefono y Mail\n"
     ]
    }
   ],
   "source": [
    "print(\"Ingrese su Nombre, Telefono y Mail\")\n"
   ]
  },
  {
   "cell_type": "code",
   "execution_count": 5,
   "id": "112f155b",
   "metadata": {},
   "outputs": [
    {
     "name": "stdout",
     "output_type": "stream",
     "text": [
      "Hiram\n",
      "5514985050\n",
      "hirammetal17@gmail.com\n"
     ]
    }
   ],
   "source": [
    "Nombre = input()\n",
    "Telefono = input()\n",
    "Mail = input()"
   ]
  },
  {
   "cell_type": "code",
   "execution_count": 13,
   "id": "9fc10103",
   "metadata": {},
   "outputs": [
    {
     "name": "stdout",
     "output_type": "stream",
     "text": [
      "Bienvenido Hiram\n",
      "Tu Num de Tel es: 5514985050\n",
      "Tu mail es: hirammetal17@gmail.com\n"
     ]
    }
   ],
   "source": [
    "print(\"Bienvenido \" +Nombre)\n",
    "print(\"Tu Num de Tel es: \" +Telefono)\n",
    "print(\"Tu mail es: \" +Mail)"
   ]
  },
  {
   "cell_type": "code",
   "execution_count": null,
   "id": "267e5493",
   "metadata": {},
   "outputs": [],
   "source": []
  }
 ],
 "metadata": {
  "kernelspec": {
   "display_name": "Python 3",
   "language": "python",
   "name": "python3"
  },
  "language_info": {
   "codemirror_mode": {
    "name": "ipython",
    "version": 3
   },
   "file_extension": ".py",
   "mimetype": "text/x-python",
   "name": "python",
   "nbconvert_exporter": "python",
   "pygments_lexer": "ipython3",
   "version": "3.8.8"
  }
 },
 "nbformat": 4,
 "nbformat_minor": 5
}
