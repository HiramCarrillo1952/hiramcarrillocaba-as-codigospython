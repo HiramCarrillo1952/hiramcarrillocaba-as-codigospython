{
 "cells": [
  {
   "cell_type": "code",
   "execution_count": 47,
   "id": "2c911574",
   "metadata": {},
   "outputs": [
    {
     "name": "stdout",
     "output_type": "stream",
     "text": [
      "Ingreso los valores de la R1 y R2\n",
      "Valor de R1: 80\n",
      "Valor de R2: 50\n"
     ]
    }
   ],
   "source": [
    "print(\"Ingreso los valores de la R1 y R2\")\n",
    "R1 = int(input(\"Valor de R1: \"))\n",
    "R2 = int(input(\"Valor de R2: \"))\n",
    "\n",
    "\n"
   ]
  },
  {
   "cell_type": "code",
   "execution_count": 62,
   "id": "71fe89e5",
   "metadata": {},
   "outputs": [],
   "source": [
    "### Formula\n",
    "Rt = (R1*R2)/(R1+R2)"
   ]
  },
  {
   "cell_type": "code",
   "execution_count": 63,
   "id": "92fc67ed",
   "metadata": {},
   "outputs": [
    {
     "name": "stdout",
     "output_type": "stream",
     "text": [
      "El resultado: \n",
      "30.76923076923077\n"
     ]
    }
   ],
   "source": [
    "print('El resultado: ')\n",
    "print(Rt)\n",
    "      "
   ]
  },
  {
   "cell_type": "code",
   "execution_count": null,
   "id": "d5b04997",
   "metadata": {},
   "outputs": [],
   "source": []
  }
 ],
 "metadata": {
  "kernelspec": {
   "display_name": "Python 3",
   "language": "python",
   "name": "python3"
  },
  "language_info": {
   "codemirror_mode": {
    "name": "ipython",
    "version": 3
   },
   "file_extension": ".py",
   "mimetype": "text/x-python",
   "name": "python",
   "nbconvert_exporter": "python",
   "pygments_lexer": "ipython3",
   "version": "3.8.8"
  }
 },
 "nbformat": 4,
 "nbformat_minor": 5
}
