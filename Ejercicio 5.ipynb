{
 "cells": [
  {
   "cell_type": "code",
   "execution_count": 154,
   "id": "b8a7191a",
   "metadata": {},
   "outputs": [],
   "source": [
    "import math\n"
   ]
  },
  {
   "cell_type": "code",
   "execution_count": 155,
   "id": "07350944",
   "metadata": {},
   "outputs": [
    {
     "name": "stdout",
     "output_type": "stream",
     "text": [
      "Ingresa los valores de A, B y C\n",
      "El valor de A es: 5\n",
      "El valor de B es: 8\n",
      "El valor de C es: 2\n"
     ]
    }
   ],
   "source": [
    "print(\"Ingresa los valores de A, B y C\")\n",
    "A = int(input(\"El valor de A es: \"))\n",
    "B = int(input(\"El valor de B es: \"))\n",
    "C = int(input(\"El valor de C es: \"))\n",
    "Numero = int()\n",
    "ResRaiz = float"
   ]
  },
  {
   "cell_type": "code",
   "execution_count": 156,
   "id": "537b2350",
   "metadata": {},
   "outputs": [],
   "source": [
    "### formulas\n",
    "### Comprobar la discrepante\n",
    "\n",
    "Alcuadrado = (B**2)\n",
    "Multi = (A*C)\n",
    "Por4 = 4*Multi\n",
    "Resta = Alcuadrado - Por4\n",
    "\n"
   ]
  },
  {
   "cell_type": "code",
   "execution_count": 157,
   "id": "da1153e1",
   "metadata": {},
   "outputs": [
    {
     "data": {
      "text/plain": [
       "24"
      ]
     },
     "execution_count": 157,
     "metadata": {},
     "output_type": "execute_result"
    }
   ],
   "source": [
    "###Ultima comprobación\n",
    "Resta\n",
    "\n",
    "\n"
   ]
  },
  {
   "cell_type": "code",
   "execution_count": 158,
   "id": "db467f0f",
   "metadata": {},
   "outputs": [],
   "source": [
    "if Resta < 0 or Numero > 9999 :\n",
    "    print(\"La discrepante es menor a 0 por lo que la ecuacion no tiene solución\")\n",
    "    \n"
   ]
  },
  {
   "cell_type": "code",
   "execution_count": 159,
   "id": "3a029697",
   "metadata": {},
   "outputs": [],
   "source": [
    "ResRaiz = (math.sqrt(Resta))\n"
   ]
  },
  {
   "cell_type": "code",
   "execution_count": 160,
   "id": "1a797d47",
   "metadata": {},
   "outputs": [],
   "source": [
    "###Resultado en Positivo\n",
    "Resul1 = ((-B) + ResRaiz) / (2*A)\n"
   ]
  },
  {
   "cell_type": "code",
   "execution_count": 161,
   "id": "4fe2608b",
   "metadata": {},
   "outputs": [],
   "source": [
    "###Resultado en Negativo\n",
    "Resul2 = ((-B) - ResRaiz) / (2*A)"
   ]
  },
  {
   "cell_type": "code",
   "execution_count": 162,
   "id": "910603a2",
   "metadata": {},
   "outputs": [
    {
     "name": "stdout",
     "output_type": "stream",
     "text": [
      "El resultado en positvo es: \n"
     ]
    },
    {
     "data": {
      "text/plain": [
       "-0.31010205144336445"
      ]
     },
     "execution_count": 162,
     "metadata": {},
     "output_type": "execute_result"
    }
   ],
   "source": [
    "print(\"El resultado en positvo es: \") \n",
    "Resul1"
   ]
  },
  {
   "cell_type": "code",
   "execution_count": 163,
   "id": "8b894db4",
   "metadata": {},
   "outputs": [
    {
     "name": "stdout",
     "output_type": "stream",
     "text": [
      "El resultado en Negativo es: \n"
     ]
    },
    {
     "data": {
      "text/plain": [
       "-1.2898979485566355"
      ]
     },
     "execution_count": 163,
     "metadata": {},
     "output_type": "execute_result"
    }
   ],
   "source": [
    "print(\"El resultado en Negativo es: \") \n",
    "Resul2"
   ]
  },
  {
   "cell_type": "code",
   "execution_count": null,
   "id": "3da06219",
   "metadata": {},
   "outputs": [],
   "source": []
  },
  {
   "cell_type": "code",
   "execution_count": null,
   "id": "547de6a2",
   "metadata": {},
   "outputs": [],
   "source": []
  }
 ],
 "metadata": {
  "kernelspec": {
   "display_name": "Python 3",
   "language": "python",
   "name": "python3"
  },
  "language_info": {
   "codemirror_mode": {
    "name": "ipython",
    "version": 3
   },
   "file_extension": ".py",
   "mimetype": "text/x-python",
   "name": "python",
   "nbconvert_exporter": "python",
   "pygments_lexer": "ipython3",
   "version": "3.8.8"
  }
 },
 "nbformat": 4,
 "nbformat_minor": 5
}
