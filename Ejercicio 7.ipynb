{
 "cells": [
  {
   "cell_type": "code",
   "execution_count": 58,
   "id": "9a73db13",
   "metadata": {},
   "outputs": [
    {
     "name": "stdout",
     "output_type": "stream",
     "text": [
      "Ingresa tú edad\n",
      "Tú edad es :25\n"
     ]
    }
   ],
   "source": [
    "print(\"Ingresa tú edad\")\n",
    "Edad = int(input(\"Tú edad es :\"))\n"
   ]
  },
  {
   "cell_type": "code",
   "execution_count": 59,
   "id": "9398ec8e",
   "metadata": {},
   "outputs": [
    {
     "name": "stdout",
     "output_type": "stream",
     "text": [
      "Validación de la Edad\n"
     ]
    }
   ],
   "source": [
    "if Edad > 18  :\n",
    "    print(\"Validación de la Edad\")"
   ]
  },
  {
   "cell_type": "code",
   "execution_count": 60,
   "id": "33b1a4d2",
   "metadata": {},
   "outputs": [],
   "source": [
    "if Edad < 18 :\n",
    "    print(\"Invalidación de la Edad\")"
   ]
  },
  {
   "cell_type": "code",
   "execution_count": 61,
   "id": "4cf0538a",
   "metadata": {},
   "outputs": [
    {
     "name": "stdout",
     "output_type": "stream",
     "text": [
      "Ingresa la cantidad mensual de tús ingresos \n",
      "Tús ingresos mensuales son: 3000\n",
      "Ingresa la cantidad mensual de tús egresos \n",
      "Tús egresos mensuales son: 1000\n"
     ]
    }
   ],
   "source": [
    "print(\"Ingresa la cantidad mensual de tús ingresos \")\n",
    "Ingresos = int(input(\"Tús ingresos mensuales son: \"))\n",
    "print (\"Ingresa la cantidad mensual de tús egresos \")\n",
    "Egresos = int(input(\"Tús egresos mensuales son: \"))"
   ]
  },
  {
   "cell_type": "code",
   "execution_count": 62,
   "id": "cb175d25",
   "metadata": {},
   "outputs": [],
   "source": [
    "if Egresos > Ingresos :\n",
    "    print(\"No cumples con los requisitos minimos\")"
   ]
  },
  {
   "cell_type": "code",
   "execution_count": 63,
   "id": "7bffcb33",
   "metadata": {},
   "outputs": [
    {
     "name": "stdout",
     "output_type": "stream",
     "text": [
      "Cumples con los requisitos minimos\n"
     ]
    }
   ],
   "source": [
    "if Egresos < Ingresos :\n",
    "    print(\"Cumples con los requisitos minimos\")"
   ]
  },
  {
   "cell_type": "code",
   "execution_count": 64,
   "id": "69260452",
   "metadata": {},
   "outputs": [
    {
     "name": "stdout",
     "output_type": "stream",
     "text": [
      "¿Cuanto es el monto que solictas?\n",
      "El monto es: 50000\n"
     ]
    }
   ],
   "source": [
    "print (\"¿Cuanto es el monto que solictas?\")\n",
    "Monto = int(input(\"El monto es: \"))"
   ]
  },
  {
   "cell_type": "code",
   "execution_count": 65,
   "id": "f3dd474a",
   "metadata": {},
   "outputs": [
    {
     "name": "stdout",
     "output_type": "stream",
     "text": [
      "¿A cuantos meses?\n",
      "Meses :12\n"
     ]
    }
   ],
   "source": [
    "print (\"¿A cuantos meses?\")\n",
    "Meses = int(input(\"Meses :\"))"
   ]
  },
  {
   "cell_type": "code",
   "execution_count": 66,
   "id": "8b6a9163",
   "metadata": {},
   "outputs": [],
   "source": [
    "###Operación\n",
    "Cuota = Monto / Meses "
   ]
  },
  {
   "cell_type": "code",
   "execution_count": 67,
   "id": "cfa92ee8",
   "metadata": {},
   "outputs": [
    {
     "name": "stdout",
     "output_type": "stream",
     "text": [
      "La cuota mensual seria de :4166.666666666667\n"
     ]
    }
   ],
   "source": [
    "print(\"La cuota mensual seria de :\" +repr(Cuota))"
   ]
  },
  {
   "cell_type": "code",
   "execution_count": null,
   "id": "fb06aba9",
   "metadata": {},
   "outputs": [],
   "source": []
  }
 ],
 "metadata": {
  "kernelspec": {
   "display_name": "Python 3",
   "language": "python",
   "name": "python3"
  },
  "language_info": {
   "codemirror_mode": {
    "name": "ipython",
    "version": 3
   },
   "file_extension": ".py",
   "mimetype": "text/x-python",
   "name": "python",
   "nbconvert_exporter": "python",
   "pygments_lexer": "ipython3",
   "version": "3.8.8"
  }
 },
 "nbformat": 4,
 "nbformat_minor": 5
}
