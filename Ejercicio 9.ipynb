{
 "cells": [
  {
   "cell_type": "code",
   "execution_count": 12,
   "id": "28684e00",
   "metadata": {},
   "outputs": [
    {
     "name": "stdout",
     "output_type": "stream",
     "text": [
      "Escribe una palabra cual sea\n",
      "La palabra es: Hiram\n"
     ]
    }
   ],
   "source": [
    "print(\"Escribe una palabra cual sea\")\n",
    "P = str(input(\"La palabra es: \"))"
   ]
  },
  {
   "cell_type": "code",
   "execution_count": 13,
   "id": "fee63cf4",
   "metadata": {},
   "outputs": [],
   "source": [
    "b = P[::-1]"
   ]
  },
  {
   "cell_type": "code",
   "execution_count": 14,
   "id": "f3ee78d1",
   "metadata": {},
   "outputs": [
    {
     "data": {
      "text/plain": [
       "'mariH'"
      ]
     },
     "execution_count": 14,
     "metadata": {},
     "output_type": "execute_result"
    }
   ],
   "source": [
    "b"
   ]
  }
 ],
 "metadata": {
  "kernelspec": {
   "display_name": "Python 3",
   "language": "python",
   "name": "python3"
  },
  "language_info": {
   "codemirror_mode": {
    "name": "ipython",
    "version": 3
   },
   "file_extension": ".py",
   "mimetype": "text/x-python",
   "name": "python",
   "nbconvert_exporter": "python",
   "pygments_lexer": "ipython3",
   "version": "3.8.8"
  }
 },
 "nbformat": 4,
 "nbformat_minor": 5
}
