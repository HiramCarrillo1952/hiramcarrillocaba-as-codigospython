{
 "cells": [
  {
   "cell_type": "code",
   "execution_count": 68,
   "id": "ab51a1a5",
   "metadata": {},
   "outputs": [],
   "source": [
    "\n",
    "TechoIzq1 = ' //' \n",
    "TechoIzq = '//' \n",
    "TechoDer = '\\\\'\n",
    "Base = '__'\n",
    "ParedIzq = '||'\n",
    "ParedDer = '  ||'"
   ]
  },
  {
   "cell_type": "code",
   "execution_count": 70,
   "id": "543a9a85",
   "metadata": {},
   "outputs": [
    {
     "name": "stdout",
     "output_type": "stream",
     "text": [
      " //\\\n",
      "//__\\\n",
      "||  ||\n",
      "||__||\n"
     ]
    }
   ],
   "source": [
    "print(TechoIzq1 + TechoDer)\n",
    "print(TechoIzq + Base + TechoDer)\n",
    "print(ParedIzq + ParedDer)\n",
    "print(ParedIzq + Base +ParedIzq)\n"
   ]
  }
 ],
 "metadata": {
  "kernelspec": {
   "display_name": "Python 3",
   "language": "python",
   "name": "python3"
  },
  "language_info": {
   "codemirror_mode": {
    "name": "ipython",
    "version": 3
   },
   "file_extension": ".py",
   "mimetype": "text/x-python",
   "name": "python",
   "nbconvert_exporter": "python",
   "pygments_lexer": "ipython3",
   "version": "3.8.8"
  }
 },
 "nbformat": 4,
 "nbformat_minor": 5
}
