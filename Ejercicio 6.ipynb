{
 "cells": [
  {
   "cell_type": "code",
   "execution_count": 39,
   "id": "80b14b02",
   "metadata": {},
   "outputs": [
    {
     "name": "stdout",
     "output_type": "stream",
     "text": [
      "Ingresa un Numero entero cual sea\n",
      "El numero es: 0\n"
     ]
    }
   ],
   "source": [
    "print(\"Ingresa un Numero entero cual sea\")\n",
    "\n",
    "Num = int(input(\"El numero es: \"))"
   ]
  },
  {
   "cell_type": "code",
   "execution_count": 40,
   "id": "503862b5",
   "metadata": {},
   "outputs": [],
   "source": [
    "if Num > 0 or Num > 9999999999 : \n",
    "    print(\"El numero es postivo\")\n"
   ]
  },
  {
   "cell_type": "code",
   "execution_count": 41,
   "id": "7cacd7e3",
   "metadata": {},
   "outputs": [],
   "source": [
    "if Num < 0 or Num > 9999999999 : \n",
    "    print(\"El numero es negativo\")"
   ]
  },
  {
   "cell_type": "code",
   "execution_count": 42,
   "id": "4999c458",
   "metadata": {},
   "outputs": [
    {
     "name": "stdout",
     "output_type": "stream",
     "text": [
      "El numero es cero\n"
     ]
    }
   ],
   "source": [
    "if Num > -1 or Num < 1 : \n",
    "    print(\"El numero es cero\")"
   ]
  }
 ],
 "metadata": {
  "kernelspec": {
   "display_name": "Python 3",
   "language": "python",
   "name": "python3"
  },
  "language_info": {
   "codemirror_mode": {
    "name": "ipython",
    "version": 3
   },
   "file_extension": ".py",
   "mimetype": "text/x-python",
   "name": "python",
   "nbconvert_exporter": "python",
   "pygments_lexer": "ipython3",
   "version": "3.8.8"
  }
 },
 "nbformat": 4,
 "nbformat_minor": 5
}
