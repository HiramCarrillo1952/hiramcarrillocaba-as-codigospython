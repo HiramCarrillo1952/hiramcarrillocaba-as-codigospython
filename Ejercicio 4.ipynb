{
 "cells": [
  {
   "cell_type": "code",
   "execution_count": 2,
   "id": "83e749d8",
   "metadata": {},
   "outputs": [
    {
     "name": "stdout",
     "output_type": "stream",
     "text": [
      "Ingrese los datos de M1, M2, M3 y M4\n",
      "El valor de M1 es: 5\n",
      "El valor de M2 es: 4\n",
      "El valor de M3 es: 1\n",
      "El valor de M4 es: 7\n"
     ]
    }
   ],
   "source": [
    "print(\"Ingrese los datos de M1, M2, M3 y M4\")\n",
    "M1 = int(input(\"El valor de M1 es: \"))\n",
    "M2 = int(input(\"El valor de M2 es: \"))\n",
    "M3 = int(input(\"El valor de M3 es: \"))\n",
    "M4 = int(input(\"El valor de M4 es: \")) "
   ]
  },
  {
   "cell_type": "code",
   "execution_count": 18,
   "id": "85c71f28",
   "metadata": {},
   "outputs": [
    {
     "name": "stdout",
     "output_type": "stream",
     "text": [
      "|5 4|\n",
      "|1 7|\n"
     ]
    }
   ],
   "source": [
    "print(\"|\" + repr(M1), repr(M2) +\"|\")\n",
    "print(\"|\" + repr(M3), repr(M4) +\"|\")"
   ]
  },
  {
   "cell_type": "code",
   "execution_count": 3,
   "id": "f88e4c59",
   "metadata": {},
   "outputs": [],
   "source": [
    "### Formula\n",
    "Rt = (M1 * M4)-(M2 * M3)"
   ]
  },
  {
   "cell_type": "code",
   "execution_count": 16,
   "id": "a15ba0f7",
   "metadata": {},
   "outputs": [
    {
     "name": "stdout",
     "output_type": "stream",
     "text": [
      "El resultado de la matriz de 2*2 es: 31\n"
     ]
    }
   ],
   "source": [
    "print(\"El resultado de la matriz de 2*2 es: \" +repr(Rt))\n"
   ]
  }
 ],
 "metadata": {
  "kernelspec": {
   "display_name": "Python 3",
   "language": "python",
   "name": "python3"
  },
  "language_info": {
   "codemirror_mode": {
    "name": "ipython",
    "version": 3
   },
   "file_extension": ".py",
   "mimetype": "text/x-python",
   "name": "python",
   "nbconvert_exporter": "python",
   "pygments_lexer": "ipython3",
   "version": "3.8.8"
  }
 },
 "nbformat": 4,
 "nbformat_minor": 5
}
